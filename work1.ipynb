{
  "nbformat": 4,
  "nbformat_minor": 0,
  "metadata": {
    "colab": {
      "provenance": [],
      "authorship_tag": "ABX9TyM8w0IC87XeyV93Qg13SVyB",
      "include_colab_link": true
    },
    "kernelspec": {
      "name": "python3",
      "display_name": "Python 3"
    },
    "language_info": {
      "name": "python"
    }
  },
  "cells": [
    {
      "cell_type": "markdown",
      "metadata": {
        "id": "view-in-github",
        "colab_type": "text"
      },
      "source": [
        "<a href=\"https://colab.research.google.com/github/sshota98/Prog2kakushin/blob/main/work1.ipynb\" target=\"_parent\"><img src=\"https://colab.research.google.com/assets/colab-badge.svg\" alt=\"Open In Colab\"/></a>"
      ]
    },
    {
      "cell_type": "markdown",
      "source": [],
      "metadata": {
        "id": "eQR1WT1kGk_N"
      }
    },
    {
      "cell_type": "code",
      "execution_count": 71,
      "metadata": {
        "id": "UWTMnCsjDpOu",
        "colab": {
          "base_uri": "https://localhost:8080/"
        },
        "outputId": "64b6d1ff-0c48-46c0-ec1b-f842aa32a168"
      },
      "outputs": [
        {
          "output_type": "stream",
          "name": "stdout",
          "text": [
            "健康管理システム\n",
            "1：初めて使う方、リセットして使う方　2：今日のデータを入力したい方　3：データを参照したい方　4：終了\n",
            "どの機能を使いますか?数字を入力してください  3\n",
            "ここではデータを参照できます\n",
            "1：ここまでのグラフが見たい　2：特定の日のデータが見たい\n",
            "数字を入力してください2\n",
            "年月日を入力してください（例）2023年1月1日なら2023/01/01  2023/12/24\n",
            "         date  weight     bmi\n",
            "5  2023/12/24    6738  1684.5\n",
            "ご利用ありがとうございました\n"
          ]
        }
      ],
      "source": [
        "import pandas as pd\n",
        "import matplotlib.pyplot as plt\n",
        "print('健康管理システム')\n",
        "def first():\n",
        "  global height\n",
        "  df1=pd.DataFrame(columns=['date','weight','bmi',])\n",
        "  df1.to_csv('health.csv', index=False)\n",
        "  height=int(input('あなたの身長を教えてください(m)'))\n",
        "  print('ありがとうございました')\n",
        "def start():\n",
        "  print('1：初めて使う方、リセットして使う方　2：今日のデータを入力したい方　3：データを参照したい方　4：終了')\n",
        "  global select\n",
        "  select=int(input('どの機能を使いますか?数字を入力してください  '))\n",
        "\n",
        "def inputdata():\n",
        "  global height\n",
        "  print('ここではデータ入力ができます')\n",
        "  heightchange=input('身長が変わっていたら、yes　と入力してください')\n",
        "  if heightchange=='yes':\n",
        "    height=int(input('あなたの身長を教えてください(m)'))\n",
        "    print('次に進みます')\n",
        "  date=input('今日の年月日を入力してください（例）2023年1月1日なら2023/01/01  ')\n",
        "  weight=int(input('体重を入力してください(kg)  '))\n",
        "  newrow={'date': date, 'weight': weight, 'bmi': weight/height**2}\n",
        "  df_new = pd.DataFrame(newrow, index=[0])\n",
        "  df1=pd.read_csv('health.csv')\n",
        "  df1=pd.concat([df1, df_new], ignore_index=True)\n",
        "\n",
        "  df1.to_csv('health.csv',index=False)\n",
        "  df1\n",
        "  print('ありがとうございました')\n",
        "def data():\n",
        "  print('ここではデータを参照できます')\n",
        "  print('1：ここまでのグラフが見たい　2：特定の日のデータが見たい')\n",
        "  select2=int(input('数字を入力してください'))\n",
        "  if select2==1:\n",
        "    gragh()\n",
        "  if select2==2:\n",
        "    datedata()\n",
        "def gragh():\n",
        "  df1=pd.read_csv('health.csv')\n",
        "  plt.plot(df1['date'],df1['weight'])\n",
        "  plt.plot(df1['date'],df1['bmi'])\n",
        "  plt.show()\n",
        "\n",
        "def datedata():\n",
        "  df1=pd.read_csv('health.csv')\n",
        "  date2=input('年月日を入力してください（例）2023年1月1日なら2023/01/01  ')\n",
        "  data3=df1[df1['date'].str.contains(date2)][['date','weight','bmi']]\n",
        "  print(data3)\n",
        "start()\n",
        "\n",
        "if select==1:\n",
        "  first()\n",
        "  print('ご利用ありがとうございました')\n",
        "if select==2:\n",
        "  inputdata()\n",
        "  print('ご利用ありがとうございました')\n",
        "if select==3:\n",
        "  data()\n",
        "  print('ご利用ありがとうございました')\n",
        "if select==4:\n",
        "  print('ご利用ありがとうございました')\n",
        "\n",
        "\n",
        "\n"
      ]
    },
    {
      "cell_type": "code",
      "source": [],
      "metadata": {
        "id": "-J6gcgFwndGo"
      },
      "execution_count": null,
      "outputs": []
    }
  ]
}