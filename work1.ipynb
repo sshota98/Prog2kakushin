{
  "nbformat": 4,
  "nbformat_minor": 0,
  "metadata": {
    "colab": {
      "provenance": [],
      "authorship_tag": "ABX9TyNUdAM2ALuNJ84wiVmp1CDu",
      "include_colab_link": true
    },
    "kernelspec": {
      "name": "python3",
      "display_name": "Python 3"
    },
    "language_info": {
      "name": "python"
    }
  },
  "cells": [
    {
      "cell_type": "markdown",
      "metadata": {
        "id": "view-in-github",
        "colab_type": "text"
      },
      "source": [
        "<a href=\"https://colab.research.google.com/github/sshota98/Prog2kakushin/blob/main/work1.ipynb\" target=\"_parent\"><img src=\"https://colab.research.google.com/assets/colab-badge.svg\" alt=\"Open In Colab\"/></a>"
      ]
    },
    {
      "cell_type": "markdown",
      "source": [],
      "metadata": {
        "id": "eQR1WT1kGk_N"
      }
    },
    {
      "cell_type": "code",
      "execution_count": null,
      "metadata": {
        "id": "UWTMnCsjDpOu"
      },
      "outputs": [],
      "source": [
        "!pip install japanize-matplotlib\n",
        "import pandas as pd\n",
        "import matplotlib.pyplot as plt\n",
        "import japanize_matplotlib\n",
        "print('健康管理システム')\n",
        "def first():\n",
        "  global height\n",
        "  global mokuhyou\n",
        "  df1=pd.DataFrame(columns=['date','weight','bmi','walking'])\n",
        "  df1.to_csv('health.csv', index=False)\n",
        "  height=int(input('あなたの身長を教えてください(m)'))\n",
        "  mokuhyou=int(input('一日の目標歩数を教えてください'))\n",
        "  print('ありがとうございました')\n",
        "def start():\n",
        "  print('1：初めて使う方、リセットして使う方　2：今日のデータを入力したい方　3：データを参照したい方')\n",
        "  global select\n",
        "  select=int(input('どの機能を使いますか?数字を入力してください  '))\n",
        "\n",
        "def inputdata():\n",
        "  global height\n",
        "  print('ここではデータ入力ができます')\n",
        "  heightchange=input('身長が変わっていたら、yes　と入力してください')\n",
        "  if heightchange=='yes':\n",
        "    height=int(input('あなたの身長を教えてください(m)'))\n",
        "    print('次に進みます')\n",
        "  date=input('今日の年月日を入力してください（例）2023年1月1日なら2023/01/01  ')\n",
        "  weight=int(input('体重を入力してください(kg)  '))\n",
        "  daywalking=int(input('歩数を入力してください '))\n",
        "  newrow={'date': date, 'weight': weight, 'bmi': weight/height**2,'walking':daywalking}\n",
        "  df_new = pd.DataFrame(newrow, index=[0])\n",
        "  df1=pd.read_csv('health.csv')\n",
        "  df1=pd.concat([df1, df_new], ignore_index=True)\n",
        "  df1.sort_values(by='date',ascending=True,inplace=True)\n",
        "  df1.to_csv('health.csv',index=False)\n",
        "  df1\n",
        "  print('ありがとうございました')\n",
        "def data():\n",
        "  print('ここではデータを参照できます')\n",
        "  print('1：これまでのグラフが見たい　2：特定の日のデータが見たい')\n",
        "  select2=int(input('数字を入力してください'))\n",
        "  if select2==1:\n",
        "    gragh()\n",
        "  if select2==2:\n",
        "    datedata()\n",
        "def gragh():\n",
        "  df1=pd.read_csv('health.csv')\n",
        "  df1['ruikei']=df1['walking'].cumsum()\n",
        "  ruikei2=df1['walking'].cumsum()\n",
        "  df1.to_csv('health.csv',index=False)\n",
        "  fig=plt.figure(figsize=(10,6))\n",
        "  g1=fig.add_subplot(2,2,1)\n",
        "  g2=fig.add_subplot(2,2,2)\n",
        "  g3=fig.add_subplot(2,2,3)\n",
        "  g4=fig.add_subplot(2,2,4)\n",
        "  g1.plot(df1['date'],df1['weight'])\n",
        "  g2.plot(df1['date'],df1['bmi'])\n",
        "  g3.plot(df1['date'],df1['walking'])\n",
        "  g4.plot(df1['date'],df1['ruikei'])\n",
        "  g1.set_xlabel('年月')\n",
        "  g2.set_xlabel('年月')\n",
        "  g3.set_xlabel('年月')\n",
        "  g4.set_xlabel('年月')\n",
        "  g1.set_ylabel('kg')\n",
        "  g2.set_ylabel('bmi')\n",
        "  g3.set_ylabel('歩数')\n",
        "  g4.set_ylabel('累計歩数')\n",
        "\n",
        "  plt.show()\n",
        "def datedata():\n",
        "  df1=pd.read_csv('health.csv')\n",
        "  date2=input('年月日を入力してください（例）2023年1月1日なら2023/01/01  ')\n",
        "  data3=df1[df1['date'].str.contains(date2)][['date','weight','bmi','walking','ruikei']]\n",
        "  print(data3)\n",
        "\n",
        "start()\n",
        "\n",
        "if select==1:\n",
        "  first()\n",
        "  print('ご利用ありがとうございました')\n",
        "if select==2:\n",
        "  inputdata()\n",
        "  print('ご利用ありがとうございました')\n",
        "if select==3:\n",
        "  data()\n",
        "  print('ご利用ありがとうございました')\n",
        "\n",
        "\n",
        "\n"
      ]
    },
    {
      "cell_type": "code",
      "source": [],
      "metadata": {
        "id": "-J6gcgFwndGo"
      },
      "execution_count": null,
      "outputs": []
    }
  ]
}