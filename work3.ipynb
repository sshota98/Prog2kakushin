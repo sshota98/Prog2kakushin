{
  "nbformat": 4,
  "nbformat_minor": 0,
  "metadata": {
    "colab": {
      "provenance": [],
      "authorship_tag": "ABX9TyNFpWC+CdQUENu2yXAP1GZB",
      "include_colab_link": true
    },
    "kernelspec": {
      "name": "python3",
      "display_name": "Python 3"
    },
    "language_info": {
      "name": "python"
    }
  },
  "cells": [
    {
      "cell_type": "markdown",
      "metadata": {
        "id": "view-in-github",
        "colab_type": "text"
      },
      "source": [
        "<a href=\"https://colab.research.google.com/github/sshota98/Prog2kakushin/blob/main/work3.ipynb\" target=\"_parent\"><img src=\"https://colab.research.google.com/assets/colab-badge.svg\" alt=\"Open In Colab\"/></a>"
      ]
    },
    {
      "cell_type": "markdown",
      "source": [
        "## **準備1**"
      ],
      "metadata": {
        "id": "gPpnZBKwOh5K"
      }
    },
    {
      "cell_type": "code",
      "source": [
        "!wget \"https://drive.google.com/uc?export=download&id=1CEjbXFpYVbfdOSoKsTzmyhp3rW2bE45F\" -O heritage.zip\n",
        "!unzip -o heritage.zip"
      ],
      "metadata": {
        "id": "woMZTsPFz3o3",
        "outputId": "83aaf9ea-a509-406b-95f2-eafc886db54b",
        "colab": {
          "base_uri": "https://localhost:8080/"
        }
      },
      "execution_count": 2,
      "outputs": [
        {
          "output_type": "stream",
          "name": "stdout",
          "text": [
            "--2024-01-16 07:13:00--  https://drive.google.com/uc?export=download&id=1CEjbXFpYVbfdOSoKsTzmyhp3rW2bE45F\n",
            "Resolving drive.google.com (drive.google.com)... 108.177.13.100, 108.177.13.101, 108.177.13.102, ...\n",
            "Connecting to drive.google.com (drive.google.com)|108.177.13.100|:443... connected.\n",
            "HTTP request sent, awaiting response... 303 See Other\n",
            "Location: https://drive.usercontent.google.com/download?id=1CEjbXFpYVbfdOSoKsTzmyhp3rW2bE45F&export=download [following]\n",
            "--2024-01-16 07:13:00--  https://drive.usercontent.google.com/download?id=1CEjbXFpYVbfdOSoKsTzmyhp3rW2bE45F&export=download\n",
            "Resolving drive.usercontent.google.com (drive.usercontent.google.com)... 74.125.26.132, 2607:f8b0:400c:c04::84\n",
            "Connecting to drive.usercontent.google.com (drive.usercontent.google.com)|74.125.26.132|:443... connected.\n",
            "HTTP request sent, awaiting response... 200 OK\n",
            "Length: 19851 (19K) [application/octet-stream]\n",
            "Saving to: ‘heritage.zip’\n",
            "\n",
            "heritage.zip        100%[===================>]  19.39K  --.-KB/s    in 0.001s  \n",
            "\n",
            "2024-01-16 07:13:01 (23.9 MB/s) - ‘heritage.zip’ saved [19851/19851]\n",
            "\n",
            "Archive:  heritage.zip\n",
            "  inflating: gennbakudo-mu.jpg       \n",
            "  inflating: itukushima.jpg          \n"
          ]
        }
      ]
    },
    {
      "cell_type": "markdown",
      "source": [
        "# **準備2**"
      ],
      "metadata": {
        "id": "PpTkvnTCOVCd"
      }
    },
    {
      "cell_type": "code",
      "source": [
        "import numpy as np\n",
        "import sys\n",
        "import cv2\n",
        "import glob\n",
        "import random\n",
        "from google.colab.patches import cv2_imshow\n",
        "mydict=dict()\n",
        "count1=0\n",
        "theme=input('どのテーマのクイズですか')\n",
        "def mozaiku(answer2,k):\n",
        "  scale=k\n",
        "  h, w = answer2.shape[:2]\n",
        "  moz=cv2.resize(answer2, dsize=None, fx=scale, fy=scale, interpolation=cv2.INTER_NEAREST)\n",
        "  moz = cv2.resize(moz, dsize=(w*2, h*2), interpolation=cv2.INTER_NEAREST)\n",
        "  return moz\n",
        "file_list = glob.glob('*.jpg')\n",
        "print(file_list)\n",
        "for x in (file_list):\n",
        "  answername=input(f'{x}の答えを教えてください')\n",
        "  mydict[x]=answername\n",
        "print(mydict)\n",
        "\n",
        "\n"
      ],
      "metadata": {
        "colab": {
          "base_uri": "https://localhost:8080/"
        },
        "id": "mD7SMUva5hzN",
        "outputId": "58405ac6-cd6a-4dda-c48b-7e5d43c8807c"
      },
      "execution_count": 40,
      "outputs": [
        {
          "output_type": "stream",
          "name": "stdout",
          "text": [
            "どのテーマのクイズですか世界遺産\n",
            "['gennbakudo-mu.jpg', 'itukushima.jpg']\n",
            "gennbakudo-mu.jpgの答えを教えてください原爆ドーム\n",
            "itukushima.jpgの答えを教えてください厳島神社\n",
            "{'gennbakudo-mu.jpg': '原爆ドーム', 'itukushima.jpg': '厳島神社'}\n"
          ]
        }
      ]
    },
    {
      "cell_type": "markdown",
      "source": [
        "## **実践**"
      ],
      "metadata": {
        "id": "7Rp9JVh4OpHj"
      }
    },
    {
      "cell_type": "code",
      "source": [
        "print(f'モザイク{theme}クイズ')\n",
        "answer=random.choice(file_list)\n",
        "scale=0.1\n",
        "print(answer)\n",
        "answer2 = cv2.imread(answer)\n",
        "if answer2 is None:\n",
        "  sys.exit(f'エラー: ファイルを開けませんでした {answer}')\n",
        "def gazou():\n",
        "  global answer2\n",
        "  global scale\n",
        "  answer3=mozaiku(answer2,scale)\n",
        "  cv2_imshow(answer3)\n",
        "gazou()\n",
        "while True:\n",
        "  a=input('これはなんでしょう')\n",
        "  b=mydict[answer]\n",
        "  if a==b:\n",
        "    print('正解です')\n",
        "    break\n",
        "  elif scale>=0.9:\n",
        "    print('不正解')\n",
        "    print(f'正解は{b}')\n",
        "    break\n",
        "  else:\n",
        "    scale+=0.3\n",
        "    gazou()\n",
        "    continue\n",
        "file_list.remove(answer)\n",
        "mydict.pop(answer)\n",
        "if len(file_list)==0:\n",
        "  print('全問終了しました')\n"
      ],
      "metadata": {
        "id": "Rl6K1i8mOQWr",
        "outputId": "8de1f141-42bb-49f7-bcc0-a69167a2891c",
        "colab": {
          "base_uri": "https://localhost:8080/",
          "height": 166
        }
      },
      "execution_count": 55,
      "outputs": [
        {
          "output_type": "stream",
          "name": "stdout",
          "text": [
            "モザイク世界遺産クイズ\n"
          ]
        },
        {
          "output_type": "error",
          "ename": "SyntaxError",
          "evalue": "'break' outside loop (<ipython-input-55-af0c7abc3035>, line 4)",
          "traceback": [
            "\u001b[0;36m  File \u001b[0;32m\"<ipython-input-55-af0c7abc3035>\"\u001b[0;36m, line \u001b[0;32m4\u001b[0m\n\u001b[0;31m    break\u001b[0m\n\u001b[0m    ^\u001b[0m\n\u001b[0;31mSyntaxError\u001b[0m\u001b[0;31m:\u001b[0m 'break' outside loop\n"
          ]
        }
      ]
    }
  ]
}