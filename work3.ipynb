{
  "nbformat": 4,
  "nbformat_minor": 0,
  "metadata": {
    "colab": {
      "provenance": [],
      "authorship_tag": "ABX9TyNFpWC+CdQUENu2yXAP1GZB",
      "include_colab_link": true
    },
    "kernelspec": {
      "name": "python3",
      "display_name": "Python 3"
    },
    "language_info": {
      "name": "python"
    }
  },
  "cells": [
    {
      "cell_type": "markdown",
      "metadata": {
        "id": "view-in-github",
        "colab_type": "text"
      },
      "source": [
        "<a href=\"https://colab.research.google.com/github/sshota98/Prog2kakushin/blob/main/work3.ipynb\" target=\"_parent\"><img src=\"https://colab.research.google.com/assets/colab-badge.svg\" alt=\"Open In Colab\"/></a>"
      ]
    },
    {
      "cell_type": "markdown",
      "source": [
        "## **準備1**"
      ],
      "metadata": {
        "id": "gPpnZBKwOh5K"
      }
    },
    {
      "cell_type": "code",
      "source": [
        "!wget \"https://drive.google.com/uc?export=download&id=1CEjbXFpYVbfdOSoKsTzmyhp3rW2bE45F\" -O heritage.zip\n",
        "!unzip -o heritage.zip"
      ],
      "metadata": {
        "id": "woMZTsPFz3o3"
      },
      "execution_count": null,
      "outputs": []
    },
    {
      "cell_type": "markdown",
      "source": [
        "# **準備2**"
      ],
      "metadata": {
        "id": "PpTkvnTCOVCd"
      }
    },
    {
      "cell_type": "code",
      "source": [
        "import numpy as np\n",
        "import sys\n",
        "import cv2\n",
        "import glob\n",
        "import random\n",
        "from google.colab.patches import cv2_imshow\n",
        "mydict=dict()\n",
        "count1=0\n",
        "theme=input('どのテーマのクイズですか')\n",
        "def mozaiku(answer2,k):\n",
        "  scale=k\n",
        "  h, w = answer2.shape[:2]\n",
        "  moz=cv2.resize(answer2, dsize=None, fx=scale, fy=scale, interpolation=cv2.INTER_NEAREST)\n",
        "  moz = cv2.resize(moz, dsize=(w*2, h*2), interpolation=cv2.INTER_NEAREST)\n",
        "  return moz\n",
        "file_list = glob.glob('*.jpg')\n",
        "print(file_list)\n",
        "for x in (file_list):\n",
        "  answername=input(f'{x}の答えを教えてください')\n",
        "  mydict[x]=answername\n",
        "print(mydict)\n",
        "\n",
        "\n"
      ],
      "metadata": {
        "id": "mD7SMUva5hzN"
      },
      "execution_count": null,
      "outputs": []
    },
    {
      "cell_type": "markdown",
      "source": [
        "## **実践**"
      ],
      "metadata": {
        "id": "7Rp9JVh4OpHj"
      }
    },
    {
      "cell_type": "code",
      "source": [
        "print(f'モザイク{theme}クイズ')\n",
        "answer=random.choice(file_list)\n",
        "scale=0.1\n",
        "print(answer)\n",
        "answer2 = cv2.imread(answer)\n",
        "if answer2 is None:\n",
        "  sys.exit(f'エラー: ファイルを開けませんでした {answer}')\n",
        "def gazou():\n",
        "  global answer2\n",
        "  global scale\n",
        "  answer3=mozaiku(answer2,scale)\n",
        "  cv2_imshow(answer3)\n",
        "gazou()\n",
        "while True:\n",
        "  a=input('これはなんでしょう')\n",
        "  b=mydict[answer]\n",
        "  if a==b:\n",
        "    print('正解です')\n",
        "    break\n",
        "  elif scale>=0.9:\n",
        "    print('不正解')\n",
        "    print(f'正解は{b}')\n",
        "    break\n",
        "  else:\n",
        "    scale+=0.3\n",
        "    gazou()\n",
        "    continue\n",
        "file_list.remove(answer)\n",
        "mydict.pop(answer)\n",
        "if len(file_list)==0:\n",
        "  print('全問終了しました')\n"
      ],
      "metadata": {
        "id": "Rl6K1i8mOQWr"
      },
      "execution_count": null,
      "outputs": []
    }
  ]
}