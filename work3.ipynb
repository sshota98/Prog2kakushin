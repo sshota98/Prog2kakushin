{
  "nbformat": 4,
  "nbformat_minor": 0,
  "metadata": {
    "colab": {
      "provenance": [],
      "authorship_tag": "ABX9TyOjGDWEhWDRCYg3gtGCjExF",
      "include_colab_link": true
    },
    "kernelspec": {
      "name": "python3",
      "display_name": "Python 3"
    },
    "language_info": {
      "name": "python"
    }
  },
  "cells": [
    {
      "cell_type": "markdown",
      "metadata": {
        "id": "view-in-github",
        "colab_type": "text"
      },
      "source": [
        "<a href=\"https://colab.research.google.com/github/sshota98/Prog2kakushin/blob/main/work3.ipynb\" target=\"_parent\"><img src=\"https://colab.research.google.com/assets/colab-badge.svg\" alt=\"Open In Colab\"/></a>"
      ]
    },
    {
      "cell_type": "markdown",
      "source": [
        "## **準備1**"
      ],
      "metadata": {
        "id": "gPpnZBKwOh5K"
      }
    },
    {
      "cell_type": "code",
      "source": [
        "!wget \"https://drive.google.com/uc?export=download&id=1CEjbXFpYVbfdOSoKsTzmyhp3rW2bE45F\" -O heritage.zip\n",
        "!unzip -o heritage.zip"
      ],
      "metadata": {
        "id": "woMZTsPFz3o3",
        "colab": {
          "base_uri": "https://localhost:8080/"
        },
        "outputId": "6956306c-0323-4ca6-a552-900dad1eb68c"
      },
      "execution_count": 1,
      "outputs": [
        {
          "output_type": "stream",
          "name": "stdout",
          "text": [
            "--2024-01-23 06:56:17--  https://drive.google.com/uc?export=download&id=1CEjbXFpYVbfdOSoKsTzmyhp3rW2bE45F\n",
            "Resolving drive.google.com (drive.google.com)... 142.250.97.101, 142.250.97.138, 142.250.97.100, ...\n",
            "Connecting to drive.google.com (drive.google.com)|142.250.97.101|:443... connected.\n",
            "HTTP request sent, awaiting response... 303 See Other\n",
            "Location: https://drive.usercontent.google.com/download?id=1CEjbXFpYVbfdOSoKsTzmyhp3rW2bE45F&export=download [following]\n",
            "--2024-01-23 06:56:17--  https://drive.usercontent.google.com/download?id=1CEjbXFpYVbfdOSoKsTzmyhp3rW2bE45F&export=download\n",
            "Resolving drive.usercontent.google.com (drive.usercontent.google.com)... 173.194.210.132, 2607:f8b0:400c:c0f::84\n",
            "Connecting to drive.usercontent.google.com (drive.usercontent.google.com)|173.194.210.132|:443... connected.\n",
            "HTTP request sent, awaiting response... 200 OK\n",
            "Length: 28462 (28K) [application/octet-stream]\n",
            "Saving to: ‘heritage.zip’\n",
            "\n",
            "heritage.zip        100%[===================>]  27.79K  --.-KB/s    in 0s      \n",
            "\n",
            "2024-01-23 06:56:17 (81.5 MB/s) - ‘heritage.zip’ saved [28462/28462]\n",
            "\n",
            "Archive:  heritage.zip\n",
            "  inflating: gennbakudo-mu.jpg       \n",
            "  inflating: itukushima.jpg          \n",
            "  inflating: himejijyou.jpg          \n"
          ]
        }
      ]
    },
    {
      "cell_type": "markdown",
      "source": [
        "# **準備2**"
      ],
      "metadata": {
        "id": "PpTkvnTCOVCd"
      }
    },
    {
      "cell_type": "code",
      "source": [
        "import numpy as np\n",
        "import sys\n",
        "import cv2\n",
        "import glob\n",
        "import random\n",
        "from google.colab.patches import cv2_imshow\n",
        "mydict=dict()\n",
        "count1=0\n",
        "theme=input('どのテーマのクイズですか（例を実行しているときは世界遺産と入力してください）')\n",
        "def mozaiku(answer2,k):\n",
        "  scale=k\n",
        "  h, w = answer2.shape[:2]\n",
        "  moz=cv2.resize(answer2, dsize=None, fx=scale, fy=scale, interpolation=cv2.INTER_NEAREST)\n",
        "  moz = cv2.resize(moz, dsize=(w*2, h*2), interpolation=cv2.INTER_NEAREST)\n",
        "  return moz\n",
        "file_list = glob.glob('*.jpg')\n",
        "print(file_list)\n",
        "for x in (file_list):\n",
        "  answername=input(f'{x}の答えを教えてください')\n",
        "  mydict[x]=answername\n",
        "print(mydict)\n",
        "\n",
        "\n"
      ],
      "metadata": {
        "id": "mD7SMUva5hzN",
        "colab": {
          "base_uri": "https://localhost:8080/"
        },
        "outputId": "e50163bf-c32e-4c19-acd1-50a19c472e1e"
      },
      "execution_count": 2,
      "outputs": [
        {
          "output_type": "stream",
          "name": "stdout",
          "text": [
            "どのテーマのクイズですか世界遺産\n",
            "['gennbakudo-mu.jpg', 'himejijyou.jpg', 'itukushima.jpg']\n",
            "gennbakudo-mu.jpgの答えを教えてください原爆ドーム\n",
            "himejijyou.jpgの答えを教えてください姫路城\n",
            "itukushima.jpgの答えを教えてください厳島神社\n",
            "{'gennbakudo-mu.jpg': '原爆ドーム', 'himejijyou.jpg': '姫路城', 'itukushima.jpg': '厳島神社'}\n"
          ]
        }
      ]
    },
    {
      "cell_type": "markdown",
      "source": [
        "## **実践**"
      ],
      "metadata": {
        "id": "7Rp9JVh4OpHj"
      }
    },
    {
      "cell_type": "code",
      "source": [
        "print(f'モザイク{theme}クイズ')\n",
        "answer=random.choice(file_list)\n",
        "scale=0.1\n",
        "answer2 = cv2.imread(answer)\n",
        "if answer2 is None:\n",
        "  sys.exit(f'エラー: ファイルを開けませんでした {answer}')\n",
        "def gazou():\n",
        "  global answer2\n",
        "  global scale\n",
        "  answer3=mozaiku(answer2,scale)\n",
        "  cv2_imshow(answer3)\n",
        "gazou()\n",
        "while True:\n",
        "  a=input('これはなんでしょう：')\n",
        "  b=mydict[answer]\n",
        "  if a==b:\n",
        "    print('正解です')\n",
        "    break\n",
        "  elif scale>=0.9:\n",
        "    print('不正解')\n",
        "    print(f'正解は{b}')\n",
        "    break\n",
        "  else:\n",
        "    scale+=0.3\n",
        "    gazou()\n",
        "    continue\n",
        "file_list.remove(answer)\n",
        "mydict.pop(answer)\n",
        "if len(file_list)==0:\n",
        "  print('全問終了しました')\n"
      ],
      "metadata": {
        "id": "Rl6K1i8mOQWr",
        "colab": {
          "base_uri": "https://localhost:8080/",
          "height": 822
        },
        "outputId": "d3b7bddb-a9c4-41ac-a7f7-39fb22a75c34"
      },
      "execution_count": 5,
      "outputs": [
        {
          "output_type": "stream",
          "name": "stdout",
          "text": [
            "モザイク世界遺産クイズ\n"
          ]
        },
        {
          "output_type": "display_data",
          "data": {
            "text/plain": [
              "<PIL.Image.Image image mode=RGB size=550x366>"
            ],
            "image/png": "[encoded data removed]"
          },
          "metadata": {}
        },
        {
          "name": "stdout",
          "output_type": "stream",
          "text": [
            "これはなんでしょう：わからない\n"
          ]
        },
        {
          "output_type": "display_data",
          "data": {
            "text/plain": [
              "<PIL.Image.Image image mode=RGB size=550x366>"
            ],
            "image/png": "[encoded data removed]"
          },
          "metadata": {}
        },
        {
          "output_type": "stream",
          "name": "stdout",
          "text": [
            "これはなんでしょう：姫路城\n",
            "正解です\n"
          ]
        }
      ]
    }
  ]
}