{
  "nbformat": 4,
  "nbformat_minor": 0,
  "metadata": {
    "colab": {
      "provenance": [],
      "authorship_tag": "ABX9TyPoyAYnYdo0tBo2/an0cClp",
      "include_colab_link": true
    },
    "kernelspec": {
      "name": "python3",
      "display_name": "Python 3"
    },
    "language_info": {
      "name": "python"
    }
  },
  "cells": [
    {
      "cell_type": "markdown",
      "metadata": {
        "id": "view-in-github",
        "colab_type": "text"
      },
      "source": [
        "<a href=\"https://colab.research.google.com/github/sshota98/Prog2kakushin/blob/main/work3.ipynb\" target=\"_parent\"><img src=\"https://colab.research.google.com/assets/colab-badge.svg\" alt=\"Open In Colab\"/></a>"
      ]
    },
    {
      "cell_type": "code",
      "execution_count": null,
      "metadata": {
        "id": "UWTMnCsjDpOu"
      },
      "outputs": [],
      "source": [
        "import numpy as np\n",
        "import sys\n",
        "import cv2\n",
        "from google.colab.patches import cv2_imshow\n",
        "import pandas as pd"
      ]
    },
    {
      "cell_type": "code",
      "source": [
        "!wget \"https://drive.google.com/file/d/1CEjbXFpYVbfdOSoKsTzmyhp3rW2bE45F/view?usp=drive_link\" -O heritage.zip\n",
        "!unzip -o heritage.zip"
      ],
      "metadata": {
        "id": "woMZTsPFz3o3",
        "outputId": "904be4d6-27db-4c7a-f44d-1902fa9d542e",
        "colab": {
          "base_uri": "https://localhost:8080/"
        }
      },
      "execution_count": 5,
      "outputs": [
        {
          "output_type": "stream",
          "name": "stdout",
          "text": [
            "--2024-01-16 06:01:33--  https://drive.google.com/file/d/1CEjbXFpYVbfdOSoKsTzmyhp3rW2bE45F/view?usp=drive_link\n",
            "Resolving drive.google.com (drive.google.com)... 172.253.63.101, 172.253.63.100, 172.253.63.113, ...\n",
            "Connecting to drive.google.com (drive.google.com)|172.253.63.101|:443... connected.\n",
            "HTTP request sent, awaiting response... 200 OK\n",
            "Length: unspecified [text/html]\n",
            "Saving to: ‘heritage.zip’\n",
            "\n",
            "heritage.zip            [ <=>                ]  82.87K  --.-KB/s    in 0.007s  \n",
            "\n",
            "2024-01-16 06:01:33 (11.2 MB/s) - ‘heritage.zip’ saved [84858]\n",
            "\n",
            "Archive:  heritage.zip\n",
            "  End-of-central-directory signature not found.  Either this file is not\n",
            "  a zipfile, or it constitutes one disk of a multi-part archive.  In the\n",
            "  latter case the central directory and zipfile comment will be found on\n",
            "  the last disk(s) of this archive.\n",
            "unzip:  cannot find zipfile directory in one of heritage.zip or\n",
            "        heritage.zip.zip, and cannot find heritage.zip.ZIP, period.\n"
          ]
        }
      ]
    }
  ]
}