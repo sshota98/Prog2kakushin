{
  "nbformat": 4,
  "nbformat_minor": 0,
  "metadata": {
    "colab": {
      "provenance": [],
      "authorship_tag": "ABX9TyN+z0YnQzfFi9XzVlYJwebT",
      "include_colab_link": true
    },
    "kernelspec": {
      "name": "python3",
      "display_name": "Python 3"
    },
    "language_info": {
      "name": "python"
    }
  },
  "cells": [
    {
      "cell_type": "markdown",
      "metadata": {
        "id": "view-in-github",
        "colab_type": "text"
      },
      "source": [
        "<a href=\"https://colab.research.google.com/github/sshota98/Prog2kakushin/blob/main/work2.ipynb\" target=\"_parent\"><img src=\"https://colab.research.google.com/assets/colab-badge.svg\" alt=\"Open In Colab\"/></a>"
      ]
    },
    {
      "cell_type": "code",
      "execution_count": null,
      "metadata": {
        "id": "UWTMnCsjDpOu"
      },
      "outputs": [],
      "source": [
        "import numpy as np\n",
        "import matplotlib.pyplot as plt\n",
        "datalist=[]\n",
        "def ticket():\n",
        "  emp=[]\n",
        "  print('ここではチケット代を決めることができます（2種類）')\n",
        "  a=np.zeros((2,2),dtype=np.float)\n",
        "  for i in range(2):\n",
        "    maisuu=input(f'{i+1}番目に高いチケットは何枚売れると予想していますか')\n",
        "    emp.append(maisuu)\n",
        "  emp=np.array(emp, dtype=object)\n",
        "  a[0,]=emp\n",
        "  a[1,]=1\n",
        "  risou=input('二種類のチケットはあわせてどのくらいの価格がいいですか')\n",
        "  sougaku=input('何円が目標金額ですか')\n",
        "  ans=np.array([sougaku,risou],dtype=np.float)\n",
        "  x = np.linalg.solve(a, ans)\n",
        "  x1=int(x[0])\n",
        "  x2=int(x[1])\n",
        "  if (x1 or x2) <=0:\n",
        "    print('やり直してください')\n",
        "    print(x)\n",
        "  else:\n",
        "    print(x)\n",
        "    return a,ans,x\n",
        "def ninnzuu():\n",
        "  emp=[]\n",
        "  print('ここでは呼びたい人数を求めることができます（2種類）')\n",
        "  a=np.zeros((2,2),dtype=np.float)\n",
        "  for i in range(2):\n",
        "    kinngaku=input(f'{i+1}番目に高いチケットは何円ですか')\n",
        "    emp.append(kinngaku)\n",
        "  emp=np.array(emp, dtype=object)\n",
        "  a[0,]=emp\n",
        "  a[1,]=1\n",
        "  risou=input('何人きてほしいですか')\n",
        "  sougaku=input('何円が目標金額ですか')\n",
        "  ans=np.array([sougaku,risou],dtype=np.float)\n",
        "  x = np.linalg.solve(a, ans)\n",
        "  x1=int(x[0])\n",
        "  x2=int(x[1])\n",
        "  if (x1 or x2) <=0:\n",
        "    print('やり直してください')\n",
        "    print(x)\n",
        "  else:\n",
        "    print(x)\n",
        "\n",
        "print('イベント開催者用便利ツール')\n",
        "print('1,チケット代(各チケットがどれくらい売れるかわかるならこの機能) 2,人数（各チケットどれくらい売れればいいのか知りたいならこの機能')\n",
        "select=int(input('どの機能を使いますか？'))\n",
        "if select==1:\n",
        "  ticket()\n",
        "elif select==2:\n",
        "  ninnzuu()"
      ]
    },
    {
      "cell_type": "code",
      "source": [
        "import numpy as np\n",
        "print('数列当てゲーム')\n",
        "a=int(np.random.uniform(1,100,1))\n",
        "b=int(np.random.uniform(1,1000,1))\n",
        "c=int(np.random.uniform(1,10,1))\n",
        "print(a,c)\n",
        "d=np.arange(a,b,c)\n",
        "e=np.random.choice(d,2,replace=False)\n",
        "f=np.where(d==e[0])\n",
        "g=np.where(d==e[1])\n",
        "print(f'ヒントは{f[0]}項目で{e[0]},{g[0]}項目で{e[1]}をとります')\n",
        "for i in range(3):\n",
        "  h=int(input('この数列の初項は何ですか'))\n",
        "  i=int(input('この数列の公差は何ですか'))\n",
        "  if h==a and i==c:\n",
        "    print('正解です')\n",
        "    break\n",
        "  else:\n",
        "    ('違います入力しなおしてください')\n",
        "print(f'答えは{a}+(n+1){c}でした')\n",
        "\n",
        "\n"
      ],
      "metadata": {
        "id": "j81v73f8a5oB"
      },
      "execution_count": null,
      "outputs": []
    }
  ]
}