{
  "nbformat": 4,
  "nbformat_minor": 0,
  "metadata": {
    "colab": {
      "provenance": [],
      "toc_visible": true,
      "history_visible": true,
      "authorship_tag": "ABX9TyNUlYo70FktaWbv4ESxO3cC",
      "include_colab_link": true
    },
    "kernelspec": {
      "name": "python3",
      "display_name": "Python 3"
    },
    "language_info": {
      "name": "python"
    }
  },
  "cells": [
    {
      "cell_type": "markdown",
      "metadata": {
        "id": "view-in-github",
        "colab_type": "text"
      },
      "source": [
        "<a href=\"https://colab.research.google.com/github/sshota98/Prog2kakushin/blob/main/work2.ipynb\" target=\"_parent\"><img src=\"https://colab.research.google.com/assets/colab-badge.svg\" alt=\"Open In Colab\"/></a>"
      ]
    },
    {
      "cell_type": "code",
      "execution_count": null,
      "metadata": {
        "id": "UWTMnCsjDpOu"
      },
      "outputs": [],
      "source": [
        "import numpy as np\n",
        "import matplotlib.pyplot as plt\n",
        "datalist=[]\n",
        "def ticket():\n",
        "  emp=[]\n",
        "  print('ここではチケット代を決めることができます（2種類）')\n",
        "  a=np.zeros((2,2),dtype=np.float)\n",
        "  for i in range(2):\n",
        "    maisuu=input(f'{i+1}番目に高いチケットは何枚売れると予想していますか')\n",
        "    emp.append(maisuu)\n",
        "  emp=np.array(emp, dtype=object)\n",
        "  a[0,]=emp\n",
        "  a[1,]=1\n",
        "  risou=input('二種類のチケットはあわせてどのくらいの価格がいいですか')\n",
        "  sougaku=input('何円が目標金額ですか')\n",
        "  ans=np.array([sougaku,risou],dtype=np.float)\n",
        "  x = np.linalg.solve(a, ans)\n",
        "  x1=int(x[0])\n",
        "  x2=int(x[1])\n",
        "  if (x1 or x2) <=0:\n",
        "    print('やり直してください')\n",
        "    print(x)\n",
        "  else:\n",
        "    print(x)\n",
        "    return a,ans,x\n",
        "def ninnzuu():\n",
        "  emp=[]\n",
        "  print('ここでは呼びたい人数を求めることができます（2種類）')\n",
        "  a=np.zeros((2,2),dtype=np.float)\n",
        "  for i in range(2):\n",
        "    kinngaku=input(f'{i+1}番目に高いチケットは何円ですか')\n",
        "    emp.append(kinngaku)\n",
        "  emp=np.array(emp, dtype=object)\n",
        "  a[0,]=emp\n",
        "  a[1,]=1\n",
        "  risou=input('何人きてほしいですか')\n",
        "  sougaku=input('何円が目標金額ですか')\n",
        "  ans=np.array([sougaku,risou],dtype=np.float)\n",
        "  x = np.linalg.solve(a, ans)\n",
        "  x1=int(x[0])\n",
        "  x2=int(x[1])\n",
        "  if (x1 or x2) <=0:\n",
        "    print('やり直してください')\n",
        "    print(x)\n",
        "  else:\n",
        "    print(x)\n",
        "\n",
        "print('イベント開催者用便利ツール')\n",
        "print('1,チケット代(各チケットがどれくらい売れるかわかるならこの機能) 2,人数（各チケットどれくらい売れればいいのか知りたいならこの機能')\n",
        "select=int(input('どの機能を使いますか？'))\n",
        "if select==1:\n",
        "  ticket()\n",
        "elif select==2:\n",
        "  ninnzuu()"
      ]
    },
    {
      "cell_type": "code",
      "source": [
        "a=int(np.random.uniform(1, 100,1 ))\n",
        "c=np.arange(a,1000,b)\n",
        "      5 d=np.random.choice(c,size=2)\n",
        "----> 6 r1=c.indexOf(d[0])\n",
        "      7 r2=c.indexOf(d[1])\n",
        "      8 print(f'ヒントはこの等差数列には{r1}項に{d[0]},{r2}項に{d[1]}が含まれています')\n",
        "       for i in range(3):\n",
        "---> 12   e=input('この数列の初項は')\n",
        "     13   f=input('この数列の公差は')\n",
        "     14   if e==a and f==b:\n",
        "     c=np.arange(a,1000,b)\n",
        "----> 7 d=np.random.choice(c,size=2)\n",
        "      8 r1=int(np.where(d[0]==c)[0])\n",
        "      9 r2=int(np.where(d[1]==c)[0])"
      ],
      "metadata": {
        "id": "j81v73f8a5oB"
      },
      "execution_count": null,
      "outputs": []
    }
  ]
}